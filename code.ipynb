{
 "cells": [
  {
   "cell_type": "markdown",
   "metadata": {},
   "source": [
    "## Import Library & Dataset Processing\n",
    "* import necessary libraries \n",
    "* preprocess datasets - merging "
   ]
  },
  {
   "cell_type": "code",
   "execution_count": 1,
   "metadata": {},
   "outputs": [],
   "source": [
    "import pandas as pd"
   ]
  },
  {
   "cell_type": "code",
   "execution_count": 2,
   "metadata": {},
   "outputs": [],
   "source": [
    "users = pd.read_csv('data/users.csv')\n",
    "reviews = pd.read_csv('data/reviews.csv')\n",
    "restaurants = pd.read_csv('data/restaurants.csv')"
   ]
  },
  {
   "cell_type": "markdown",
   "metadata": {},
   "source": [
    "There are 4 classes of flagged reviews by Yelp recommendation system. \n",
    "* N - Reviews that are confirmed as not fake \n",
    "* Y - Reviews that are confirmed as fake (least frequent label)\n",
    "* NR - Reviews that are not confirmed as fake but flagged for investigation (most frequent laabel)\n",
    "* YR - Reviews that are suspected to be fake and require more review before confirmation "
   ]
  },
  {
   "cell_type": "code",
   "execution_count": 3,
   "metadata": {},
   "outputs": [
    {
     "data": {
      "text/plain": [
       "flagged\n",
       "NR    402774\n",
       "YR    318678\n",
       "N      58716\n",
       "Y       8303\n",
       "Name: count, dtype: int64"
      ]
     },
     "execution_count": 3,
     "metadata": {},
     "output_type": "execute_result"
    }
   ],
   "source": [
    "reviews['flagged'].value_counts()"
   ]
  },
  {
   "cell_type": "code",
   "execution_count": 4,
   "metadata": {},
   "outputs": [],
   "source": [
    "## inner join \n",
    "merged = pd.merge(reviews, users, on='reviewerID')"
   ]
  },
  {
   "cell_type": "code",
   "execution_count": 5,
   "metadata": {},
   "outputs": [
    {
     "data": {
      "text/plain": [
       "(708268, 22)"
      ]
     },
     "execution_count": 5,
     "metadata": {},
     "output_type": "execute_result"
    }
   ],
   "source": [
    "merged.shape"
   ]
  },
  {
   "cell_type": "code",
   "execution_count": 6,
   "metadata": {},
   "outputs": [],
   "source": [
    "# drop rows with NR and YR in flagged column since NR and YR are not confirmed reviews\n",
    "merged_filtered = merged[~merged['flagged'].isin(['YR', 'NR'])]"
   ]
  },
  {
   "cell_type": "code",
   "execution_count": 7,
   "metadata": {},
   "outputs": [
    {
     "data": {
      "text/plain": [
       "flagged\n",
       "N    20752\n",
       "Y     6206\n",
       "Name: count, dtype: int64"
      ]
     },
     "execution_count": 7,
     "metadata": {},
     "output_type": "execute_result"
    }
   ],
   "source": [
    "merged_filtered['flagged'].value_counts()"
   ]
  },
  {
   "cell_type": "code",
   "execution_count": 9,
   "metadata": {},
   "outputs": [
    {
     "name": "stderr",
     "output_type": "stream",
     "text": [
      "/var/folders/r6/8w9yhb292k5_7hy_mpvj9p780000gn/T/ipykernel_65450/1597501358.py:1: SettingWithCopyWarning: \n",
      "A value is trying to be set on a copy of a slice from a DataFrame\n",
      "\n",
      "See the caveats in the documentation: https://pandas.pydata.org/pandas-docs/stable/user_guide/indexing.html#returning-a-view-versus-a-copy\n",
      "  merged_filtered.rename(columns={'usefulCount_x': 'usefulCount_review',\n"
     ]
    }
   ],
   "source": [
    "merged_filtered.rename(columns={'usefulCount_x': 'usefulCount_review', \n",
    "                   'coolCount_x': 'coolCount_review',\n",
    "                   'funnyCount_x': 'funnyCount_review',\n",
    "                   'usefulCount_y': 'usefulCount_user',\n",
    "                   'coolCount_y': 'coolCount_user',\n",
    "                   'funnyCount_y': 'funnyCount_user'}, inplace=True)"
   ]
  },
  {
   "cell_type": "code",
   "execution_count": 12,
   "metadata": {},
   "outputs": [],
   "source": [
    "restaurant_merged = pd.merge(merged_filtered, restaurants, on='restaurantID')"
   ]
  },
  {
   "cell_type": "code",
   "execution_count": 16,
   "metadata": {},
   "outputs": [],
   "source": [
    "restaurant_merged.rename(columns={'name_x': 'name_user',\n",
    "                                  'location_x': 'location_user',\n",
    "                                  'reviewCount_x': 'reviewCount_user',\n",
    "                                  'name_y': 'name_restaurant',\n",
    "                                  'location_y': 'location_restaurant',\n",
    "                                  'reviewCount_y': 'reviewCount_restaurant',\n",
    "                                  'rating_x': 'rating_review',\n",
    "                                  'rating_y': 'rating_restaurant'}, inplace=True)"
   ]
  },
  {
   "cell_type": "code",
   "execution_count": 17,
   "metadata": {},
   "outputs": [
    {
     "data": {
      "text/plain": [
       "Index(['date', 'reviewID', 'reviewerID', 'reviewContent', 'rating_review',\n",
       "       'usefulCount_review', 'coolCount_review', 'funnyCount_review',\n",
       "       'flagged', 'restaurantID', 'name_user', 'location_user', 'yelpJoinDate',\n",
       "       'friendCount', 'reviewCount_user', 'firstCount', 'usefulCount_user',\n",
       "       'coolCount_user', 'funnyCount_user', 'complimentCount', 'tipCount',\n",
       "       'fanCount', 'name_restaurant', 'location_restaurant',\n",
       "       'reviewCount_restaurant', 'rating_restaurant', 'categories', 'address',\n",
       "       'Hours', 'GoodforKids', 'AcceptsCreditCards', 'Parking', 'Attire',\n",
       "       'GoodforGroups', 'PriceRange', 'TakesReservations', 'Delivery',\n",
       "       'Takeout', 'WaiterService', 'OutdoorSeating', 'WiFi', 'GoodFor',\n",
       "       'Alcohol', 'NoiseLevel', 'Ambience', 'HasTV', 'Caters',\n",
       "       'WheelchairAccessible', 'webSite', 'phoneNumber', 'filReviewCount'],\n",
       "      dtype='object')"
      ]
     },
     "execution_count": 17,
     "metadata": {},
     "output_type": "execute_result"
    }
   ],
   "source": [
    "restaurant_merged.columns"
   ]
  }
 ],
 "metadata": {
  "kernelspec": {
   "display_name": "fraud",
   "language": "python",
   "name": "python3"
  },
  "language_info": {
   "codemirror_mode": {
    "name": "ipython",
    "version": 3
   },
   "file_extension": ".py",
   "mimetype": "text/x-python",
   "name": "python",
   "nbconvert_exporter": "python",
   "pygments_lexer": "ipython3",
   "version": "3.9.20"
  }
 },
 "nbformat": 4,
 "nbformat_minor": 2
}
